{
  "nbformat": 4,
  "nbformat_minor": 0,
  "metadata": {
    "colab": {
      "provenance": []
    },
    "kernelspec": {
      "name": "python3",
      "display_name": "Python 3"
    },
    "language_info": {
      "name": "python"
    },
    "accelerator": "GPU",
    "gpuClass": "standard"
  },
  "cells": [
    {
      "cell_type": "code",
      "execution_count": 5,
      "metadata": {
        "id": "SgPU0JiJhQUU"
      },
      "outputs": [],
      "source": [
        "from __future__ import print_function, division\n",
        "\n",
        "import torch\n",
        "import torch.nn as nn\n",
        "import torch.optim as optim\n",
        "from torch.optim import lr_scheduler\n",
        "import torch.backends.cudnn as cudnn\n",
        "from torch.utils.data import random_split\n",
        "import numpy as np\n",
        "import torchvision\n",
        "from torchvision import datasets, models, transforms\n",
        "import matplotlib.pyplot as plt\n",
        "import time\n",
        "import os\n",
        "import copy\n",
        "from collections import Counter\n",
        "\n",
        "cudnn.benchmark = True\n",
        "plt.ion()   # interactive mode"
      ]
    },
    {
      "cell_type": "code",
      "source": [
        "# Data augmentation and normalization for training\n",
        "# Just normalization for validation\n",
        "# and resize all image to shape (3,224,224)\n",
        "data_transforms = {\n",
        "    'train': transforms.Compose([\n",
        "        transforms.RandomResizedCrop(224),\n",
        "        transforms.RandomHorizontalFlip(),\n",
        "        transforms.ToTensor(),\n",
        "        transforms.Normalize([0.485, 0.456, 0.406], [0.229, 0.224, 0.225])\n",
        "    ]),\n",
        "    'test': transforms.Compose([\n",
        "        transforms.Resize(256),\n",
        "        transforms.CenterCrop(224),\n",
        "        transforms.ToTensor(),\n",
        "        transforms.Normalize([0.485, 0.456, 0.406], [0.229, 0.224, 0.225])\n",
        "    ]),\n",
        "}\n",
        "# Create Train,Val and test datasets\n",
        "data_dir = 'https://drive.google.com/drive/folders/1jJ7TTKbpxXbXJEhy4mJ32Dd0G9W6JAfa?usp=share_link'\n",
        "train_valid_data = datasets.ImageFolder('/content/drive/MyDrive/AIP/Assignment_1/classification_dataset/train',data_transforms['train'])\n",
        "\n",
        "# Construct train and validation sets\n",
        "train_data,valid_data = random_split(train_valid_data,[0.85,0.15], generator=torch.Generator().manual_seed(42))\n",
        "test_data = datasets.ImageFolder('/content/drive/MyDrive/AIP/Assignment_1/classification_dataset/test',data_transforms['test'])"
      ],
      "metadata": {
        "id": "3nZ0SWfohVlu"
      },
      "execution_count": 19,
      "outputs": []
    },
    {
      "cell_type": "code",
      "source": [
        "# Each class frequecies of Train_data \n",
        "Counter(train_valid_data.targets)"
      ],
      "metadata": {
        "colab": {
          "base_uri": "https://localhost:8080/"
        },
        "id": "eQ_a7_81Uk7c",
        "outputId": "db38ed7d-62ab-424d-932d-5935ec81a1f6"
      },
      "execution_count": 20,
      "outputs": [
        {
          "output_type": "execute_result",
          "data": {
            "text/plain": [
              "Counter({0: 82, 1: 92, 2: 90, 3: 90, 4: 67, 5: 111})"
            ]
          },
          "metadata": {},
          "execution_count": 20
        }
      ]
    },
    {
      "cell_type": "code",
      "source": [
        "print(f'Train_data class freq - {Counter([label for _, label in train_data])}')\n",
        "print(f'Valid_data class freq - {Counter([label for _, label in valid_data])}')\n",
        "print(f'Test_data class freq - {Counter(test_data.targets)}')"
      ],
      "metadata": {
        "colab": {
          "base_uri": "https://localhost:8080/"
        },
        "id": "5zRgKU9-VbWQ",
        "outputId": "05e6f90a-d630-4bb1-e7b6-88366ce06741"
      },
      "execution_count": 21,
      "outputs": [
        {
          "output_type": "stream",
          "name": "stdout",
          "text": [
            "Train_data class freq - Counter({5: 97, 1: 78, 3: 77, 2: 74, 0: 70, 4: 57})\n",
            "Valid_data class freq - Counter({2: 16, 1: 14, 5: 14, 3: 13, 0: 12, 4: 10})\n",
            "Test_data class freq - Counter({0: 20, 1: 20, 2: 20, 3: 20, 4: 20, 5: 20})\n"
          ]
        }
      ]
    },
    {
      "cell_type": "code",
      "source": [
        "\n",
        "# Create dataloaders for train,val and test set\n",
        "image_datasets = {'train' : train_data, 'val' : valid_data, 'test' : test_data}\n",
        "dataloaders = {x: torch.utils.data.DataLoader(image_datasets[x], batch_size=128,\n",
        "                                             shuffle=True, num_workers=4)\n",
        "              for x in ['train', 'val', 'test']}\n",
        "dataset_sizes = {x: len(image_datasets[x]) for x in ['train', 'val', 'test']}\n",
        "class_names = train_valid_data.classes\n",
        "\n",
        "device = torch.device(\"cuda:0\" if torch.cuda.is_available() else \"cpu\")\n",
        "device"
      ],
      "metadata": {
        "colab": {
          "base_uri": "https://localhost:8080/"
        },
        "id": "LiK-wOXPUlEC",
        "outputId": "5c28562a-8fd6-4e7b-ef3a-24f697e8c10c"
      },
      "execution_count": 22,
      "outputs": [
        {
          "output_type": "stream",
          "name": "stderr",
          "text": [
            "/usr/local/lib/python3.8/dist-packages/torch/utils/data/dataloader.py:554: UserWarning: This DataLoader will create 4 worker processes in total. Our suggested max number of worker in current system is 2, which is smaller than what this DataLoader is going to create. Please be aware that excessive worker creation might get DataLoader running slow or even freeze, lower the worker number to avoid potential slowness/freeze if necessary.\n",
            "  warnings.warn(_create_warning_msg(\n"
          ]
        },
        {
          "output_type": "execute_result",
          "data": {
            "text/plain": [
              "device(type='cpu')"
            ]
          },
          "metadata": {},
          "execution_count": 22
        }
      ]
    },
    {
      "cell_type": "code",
      "source": [
        "dataset_sizes"
      ],
      "metadata": {
        "colab": {
          "base_uri": "https://localhost:8080/"
        },
        "id": "a73r8sF-VNKo",
        "outputId": "54640503-5241-45bd-dfd2-7b2d1588d55d"
      },
      "execution_count": 23,
      "outputs": [
        {
          "output_type": "execute_result",
          "data": {
            "text/plain": [
              "{'train': 453, 'val': 79, 'test': 120}"
            ]
          },
          "metadata": {},
          "execution_count": 23
        }
      ]
    },
    {
      "cell_type": "code",
      "source": [
        "class_names"
      ],
      "metadata": {
        "colab": {
          "base_uri": "https://localhost:8080/"
        },
        "id": "dFyNasTUiTMg",
        "outputId": "dd1392c8-3913-49d0-b771-693f739344ba"
      },
      "execution_count": 24,
      "outputs": [
        {
          "output_type": "execute_result",
          "data": {
            "text/plain": [
              "['bear', 'butterfly', 'camel', 'chimp', 'duck', 'elephant']"
            ]
          },
          "metadata": {},
          "execution_count": 24
        }
      ]
    },
    {
      "cell_type": "code",
      "source": [
        "# Hyperparameters\n",
        "num_classes = len(class_names)\n",
        "learning_rate = 0.1\n",
        "batch_size = 128\n",
        "epochs = 10"
      ],
      "metadata": {
        "id": "jlBiPiwLPzkE"
      },
      "execution_count": 26,
      "outputs": []
    },
    {
      "cell_type": "code",
      "source": [
        "# Load pre_trained resnet18 model with weights\n",
        "model_conv = torchvision.models.resnet18(pretrained=True)\n",
        "\n",
        "# Disable gradient update for all weights\n",
        "for param in model_conv.parameters():\n",
        "    param.requires_grad = False\n",
        "\n",
        "# Parameters of newly constructed modules have requires_grad=True by default\n",
        "num_ftrs = model_conv.fc.in_features\n",
        "\n",
        "# Change last layer size to num_classes\n",
        "model_conv.fc = nn.Linear(num_ftrs, num_classes)\n",
        "\n",
        "# Load device to cuda\n",
        "model_conv = model_conv.to(device)\n",
        "\n",
        "criterion = nn.CrossEntropyLoss()\n",
        "\n",
        "optimizer_conv = optim.SGD(model_conv.fc.parameters(), lr=learning_rate, momentum=0.9)\n",
        "\n",
        "# Decay LR by a factor of 0.1 every 7 epochs\n",
        "exp_lr_scheduler = lr_scheduler.StepLR(optimizer_conv, step_size=7, gamma=0.1)"
      ],
      "metadata": {
        "colab": {
          "base_uri": "https://localhost:8080/"
        },
        "id": "RS1RTYRoiEyy",
        "outputId": "955d2eb4-e718-452b-803f-b3edfaf0289f"
      },
      "execution_count": 27,
      "outputs": [
        {
          "output_type": "stream",
          "name": "stderr",
          "text": [
            "/usr/local/lib/python3.8/dist-packages/torchvision/models/_utils.py:208: UserWarning: The parameter 'pretrained' is deprecated since 0.13 and may be removed in the future, please use 'weights' instead.\n",
            "  warnings.warn(\n",
            "/usr/local/lib/python3.8/dist-packages/torchvision/models/_utils.py:223: UserWarning: Arguments other than a weight enum or `None` for 'weights' are deprecated since 0.13 and may be removed in the future. The current behavior is equivalent to passing `weights=ResNet18_Weights.IMAGENET1K_V1`. You can also use `weights=ResNet18_Weights.DEFAULT` to get the most up-to-date weights.\n",
            "  warnings.warn(msg)\n"
          ]
        }
      ]
    },
    {
      "cell_type": "code",
      "source": [
        "def train_model(model, criterion, optimizer, scheduler, num_epochs=25):\n",
        "    since = time.time()\n",
        "\n",
        "    # keeps track of best_model for every epoch that performs better on val dataset\n",
        "    best_model_wts = copy.deepcopy(model.state_dict())\n",
        "    best_acc = 0.0\n",
        "\n",
        "    # Keep track of losses and accuracy in each epoch\n",
        "    losses = {'train':[],'val':[]}\n",
        "    acc = {'train':[],'val':[]}\n",
        "\n",
        "    for epoch in range(num_epochs):\n",
        "        print(f'Epoch {epoch}/{num_epochs - 1}')\n",
        "        print('-' * 10)\n",
        "\n",
        "        # Each epoch has a training and validation phase\n",
        "        for phase in ['train', 'val']:\n",
        "            if phase == 'train':\n",
        "                model.train()  # Set model to training mode\n",
        "            else:\n",
        "                model.eval()   # Set model to evaluate mode\n",
        "\n",
        "            running_loss = 0.0\n",
        "            running_corrects = 0\n",
        "\n",
        "            # Iterate over data.\n",
        "            for inputs, labels in dataloaders[phase]:\n",
        "                inputs = inputs.to(device)\n",
        "                labels = labels.to(device)\n",
        "\n",
        "                # zero the parameter gradients\n",
        "                optimizer.zero_grad()\n",
        "\n",
        "                # forward\n",
        "                # track history if only in train\n",
        "                with torch.set_grad_enabled(phase == 'train'):\n",
        "                    outputs = model(inputs)\n",
        "                    _, preds = torch.max(outputs, 1)\n",
        "                    loss = criterion(outputs, labels)\n",
        "\n",
        "                    # backward + optimize only if in training phase\n",
        "                    if phase == 'train':\n",
        "                        loss.backward()\n",
        "                        optimizer.step()\n",
        "\n",
        "                # statistics\n",
        "                running_loss += loss.item() * inputs.size(0)\n",
        "                running_corrects += torch.sum(preds == labels.data)\n",
        "            if phase == 'train':\n",
        "                scheduler.step()\n",
        "\n",
        "\n",
        "            epoch_loss = running_loss / dataset_sizes[phase]\n",
        "            epoch_acc = running_corrects.double() / dataset_sizes[phase]\n",
        "\n",
        "            losses[phase].append(epoch_loss)\n",
        "            acc[phase].append(epoch_acc)\n",
        "\n",
        "            print(f'{phase} Loss: {epoch_loss:.4f} Acc: {epoch_acc:.4f}')\n",
        "\n",
        "            # deep copy the model\n",
        "            if phase == 'val' and epoch_acc > best_acc:\n",
        "                best_acc = epoch_acc\n",
        "                best_model_wts = copy.deepcopy(model.state_dict())\n",
        "\n",
        "        print()\n",
        "\n",
        "    time_elapsed = time.time() - since\n",
        "    print(f'Training complete in {time_elapsed // 60:.0f}m {time_elapsed % 60:.0f}s')\n",
        "    print(f'Best val Acc: {best_acc:4f}')\n",
        "\n",
        "    # load best model weights\n",
        "    model.load_state_dict(best_model_wts)\n",
        "    return model,losses,acc"
      ],
      "metadata": {
        "id": "54lqyCBmRaye"
      },
      "execution_count": 28,
      "outputs": []
    },
    {
      "cell_type": "code",
      "source": [
        "model_ft,loss,acc = train_model(model_conv, criterion, optimizer_conv, exp_lr_scheduler,\n",
        "                       num_epochs=epochs)"
      ],
      "metadata": {
        "colab": {
          "base_uri": "https://localhost:8080/"
        },
        "id": "tlesZa-WX93e",
        "outputId": "b8c0ca39-c009-4aca-aa65-795217960c3b"
      },
      "execution_count": 29,
      "outputs": [
        {
          "output_type": "stream",
          "name": "stdout",
          "text": [
            "Epoch 0/9\n",
            "----------\n",
            "train Loss: 2.7524 Acc: 0.3201\n",
            "val Loss: 2.2821 Acc: 0.5570\n",
            "\n",
            "Epoch 1/9\n",
            "----------\n",
            "train Loss: 2.2957 Acc: 0.6424\n",
            "val Loss: 0.7424 Acc: 0.7975\n",
            "\n",
            "Epoch 2/9\n",
            "----------\n",
            "train Loss: 1.2169 Acc: 0.8278\n",
            "val Loss: 0.6811 Acc: 0.8861\n",
            "\n",
            "Epoch 3/9\n",
            "----------\n",
            "train Loss: 0.5851 Acc: 0.8874\n",
            "val Loss: 1.0607 Acc: 0.7975\n",
            "\n",
            "Epoch 4/9\n",
            "----------\n",
            "train Loss: 0.4962 Acc: 0.9183\n",
            "val Loss: 0.9694 Acc: 0.8608\n",
            "\n",
            "Epoch 5/9\n",
            "----------\n",
            "train Loss: 0.5123 Acc: 0.9117\n",
            "val Loss: 1.4426 Acc: 0.8481\n",
            "\n",
            "Epoch 6/9\n",
            "----------\n",
            "train Loss: 0.5109 Acc: 0.9117\n",
            "val Loss: 1.0032 Acc: 0.8734\n",
            "\n",
            "Epoch 7/9\n",
            "----------\n",
            "train Loss: 0.5046 Acc: 0.9205\n",
            "val Loss: 1.0945 Acc: 0.8481\n",
            "\n",
            "Epoch 8/9\n",
            "----------\n",
            "train Loss: 0.3057 Acc: 0.9404\n",
            "val Loss: 0.7982 Acc: 0.8608\n",
            "\n",
            "Epoch 9/9\n",
            "----------\n",
            "train Loss: 0.4134 Acc: 0.9338\n",
            "val Loss: 0.7274 Acc: 0.8987\n",
            "\n",
            "Training complete in 7m 56s\n",
            "Best val Acc: 0.898734\n"
          ]
        }
      ]
    },
    {
      "cell_type": "code",
      "source": [
        "plt.plot(torch.tensor(acc['train']).numpy(),'-o')\n",
        "plt.plot(torch.tensor(acc['val']).numpy(),'-o')\n",
        "plt.xlabel('epoch')\n",
        "plt.ylabel('accuracy')\n",
        "plt.legend(['Train','Valid'])\n",
        "plt.title('Train vs Valid Accuracy')\n",
        " \n",
        "plt.show()"
      ],
      "metadata": {
        "colab": {
          "base_uri": "https://localhost:8080/",
          "height": 295
        },
        "id": "FGrC-Cvm-QZb",
        "outputId": "41c96a25-037f-49b9-e208-711ccccfcdc8"
      },
      "execution_count": 30,
      "outputs": [
        {
          "output_type": "display_data",
          "data": {
            "text/plain": [
              "<Figure size 432x288 with 1 Axes>"
            ],
            "image/png": "[encoded data removed]"
          },
          "metadata": {
            "needs_background": "light"
          }
        }
      ]
    },
    {
      "cell_type": "code",
      "source": [
        "plt.plot(torch.tensor(loss['train']).numpy(),'-o')\n",
        "plt.plot(torch.tensor(loss['val']).numpy(),'-o')\n",
        "plt.xlabel('epoch')\n",
        "plt.ylabel('loss')\n",
        "plt.legend(['Train','Valid'])\n",
        "plt.title('Train vs Valid Loss')\n",
        " \n",
        "plt.show()"
      ],
      "metadata": {
        "colab": {
          "base_uri": "https://localhost:8080/",
          "height": 295
        },
        "id": "9E5ol3LjJ2gQ",
        "outputId": "54e1f0df-c795-45dd-90f8-1df7bf409a49"
      },
      "execution_count": 7,
      "outputs": [
        {
          "output_type": "display_data",
          "data": {
            "text/plain": [
              "<Figure size 432x288 with 1 Axes>"
            ],
            "image/png": "[encoded data removed]"
          },
          "metadata": {
            "needs_background": "light"
          }
        }
      ]
    },
    {
      "cell_type": "code",
      "source": [
        "def test_model(model, criterion):\n",
        "    since = time.time()\n",
        "    model.eval()   # Set model to evaluate mode\n",
        "\n",
        "    running_loss = 0.0\n",
        "    running_corrects = 0\n",
        "\n",
        "    # Iterate over data.\n",
        "    y_test = np.empty((0,1))\n",
        "    pred = np.empty((0,1))\n",
        "\n",
        "    with torch.no_grad():\n",
        "      for inputs, labels in dataloaders['test']:\n",
        "        inputs = inputs.to(device)\n",
        "        labels = labels.to(device)\n",
        "\n",
        "        outputs = model(inputs)\n",
        "        \n",
        "            \n",
        "            # calculate the loss\n",
        "        loss = criterion(outputs, labels)\n",
        "            \n",
        "            # calculate the accuracy\n",
        "        _, preds = torch.max(outputs.data, 1)\n",
        "        y_test = np.append(y_test,torch.Tensor.cpu(labels).numpy().reshape(-1,1),axis = 0)\n",
        "        pred = np.append(pred,torch.Tensor.cpu(preds).numpy().reshape(-1,1),axis = 0)\n",
        "              \n",
        "                # statistics\n",
        "        running_loss += loss.item() * inputs.size(0)\n",
        "        running_corrects += torch.sum(preds == labels.data)\n",
        "        \n",
        "    total_loss = running_loss / dataset_sizes['test']\n",
        "    total_acc = running_corrects.double() / dataset_sizes['test']\n",
        "\n",
        "    print()\n",
        "\n",
        "    time_elapsed = time.time() - since\n",
        "    print(f'Testing complete in {time_elapsed // 60:.0f}m {time_elapsed % 60:.0f}s')\n",
        "    print(f'Loss: {total_loss:.4f} Acc: {total_acc:.4f}')\n",
        "    return y_test,pred"
      ],
      "metadata": {
        "id": "GC96hAqFYOMU"
      },
      "execution_count": 38,
      "outputs": []
    },
    {
      "cell_type": "code",
      "source": [
        "y_test,pred = test_model(model_ft, criterion)"
      ],
      "metadata": {
        "colab": {
          "base_uri": "https://localhost:8080/"
        },
        "id": "WMQ-OwzQf-aU",
        "outputId": "cc0c3b54-d961-4eef-c982-5c7d6266cfbd"
      },
      "execution_count": 39,
      "outputs": [
        {
          "output_type": "stream",
          "name": "stdout",
          "text": [
            "\n",
            "Testing complete in 0m 11s\n",
            "Loss: 0.0071 Acc: 1.0000\n"
          ]
        }
      ]
    },
    {
      "cell_type": "code",
      "source": [
        "from sklearn.metrics import classification_report\n",
        "print(classification_report(y_test, pred, target_names=class_names))"
      ],
      "metadata": {
        "id": "a26W_6X_lEgs",
        "colab": {
          "base_uri": "https://localhost:8080/"
        },
        "outputId": "d0777521-00db-49e0-c861-4b7ba3b9f7fd"
      },
      "execution_count": 35,
      "outputs": [
        {
          "output_type": "stream",
          "name": "stdout",
          "text": [
            "              precision    recall  f1-score   support\n",
            "\n",
            "        bear       1.00      1.00      1.00        20\n",
            "   butterfly       1.00      1.00      1.00        20\n",
            "       camel       1.00      1.00      1.00        20\n",
            "       chimp       1.00      1.00      1.00        20\n",
            "        duck       1.00      1.00      1.00        20\n",
            "    elephant       1.00      1.00      1.00        20\n",
            "\n",
            "    accuracy                           1.00       120\n",
            "   macro avg       1.00      1.00      1.00       120\n",
            "weighted avg       1.00      1.00      1.00       120\n",
            "\n"
          ]
        }
      ]
    },
    {
      "cell_type": "code",
      "source": [],
      "metadata": {
        "id": "rqQdf0uomhjq"
      },
      "execution_count": null,
      "outputs": []
    }
  ]
}