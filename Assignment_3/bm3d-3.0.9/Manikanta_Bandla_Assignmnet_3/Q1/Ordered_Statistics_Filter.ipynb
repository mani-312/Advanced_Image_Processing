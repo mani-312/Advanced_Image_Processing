{
 "cells": [
  {
   "cell_type": "code",
   "execution_count": 7,
   "id": "90e037ba",
   "metadata": {},
   "outputs": [],
   "source": [
    "import numpy as np\n",
    "from math import factorial as f"
   ]
  },
  {
   "cell_type": "code",
   "execution_count": null,
   "id": "7c5ba245",
   "metadata": {},
   "outputs": [],
   "source": []
  },
  {
   "cell_type": "code",
   "execution_count": 8,
   "id": "899f9dfc",
   "metadata": {},
   "outputs": [],
   "source": [
    "def Tij(z1,z2,i,j,N):\n",
    "    #print(i,j,j-i-1)\n",
    "    kij = f(N)/(f(i-1)*f(j-i-1)*f(N-j))\n",
    "    a1 = 0.25*z1*z2*kij\n",
    "    a2 = ((z1+1)/2)**(i-1)\n",
    "    a3 = ((z2-z1)/2)**(j-i-1)\n",
    "    a4 = (1 - ((z2+1)/2))**(N-j)\n",
    "    return a1*a2*a3*a4\n",
    "    \n",
    "def Sij(x1,x2,i,j,N):\n",
    "    #print(i,j)\n",
    "    if x2<x1:\n",
    "        return 0\n",
    "    return 4*Tij(2*x1-1,2*x2-1,i,j,N)\n",
    "\n",
    "# i<j\n",
    "# k = #iterations\n",
    "def Hij(i,j,N,k):\n",
    "    #print(i,j)\n",
    "    sample_mean = 0\n",
    "    for ii in range(k):\n",
    "        u1 = np.random.uniform(low=0.0, high=1.0)\n",
    "        u2 = np.random.uniform(low=0.0, high=1.0)\n",
    "        y = Sij(u1,u2,i,j,N)\n",
    "        sample_mean = sample_mean+y\n",
    "    sample_mean = sample_mean/k\n",
    "    return sample_mean\n",
    "\n",
    "def Ti(z,i,N):\n",
    "    #print(i,j,j-i-1)\n",
    "    ki = f(N)/(f(i-1)*f(N-i))\n",
    "    a1 = 0.5*z*z*ki\n",
    "    a2 = ((z+1)/2)**(i-1)\n",
    "    a3 = (1 - ((z+1)/2))**(N-i)\n",
    "    return a1*a2*a3\n",
    "\n",
    "def Si(x,i,N):\n",
    "    return 2*Ti(2*x-1,i,N)\n",
    "\n",
    "# k = #iterations\n",
    "def Hi(i,N,k):\n",
    "    sample_mean = 0\n",
    "    for ii in range(k):\n",
    "        u = np.random.uniform(low=0.0, high=1.0)\n",
    "        y = Si(u,i,N)\n",
    "        sample_mean = sample_mean+y\n",
    "    sample_mean = sample_mean/k\n",
    "    return sample_mean\n",
    "\n"
   ]
  },
  {
   "cell_type": "code",
   "execution_count": 26,
   "id": "92fdd543",
   "metadata": {},
   "outputs": [],
   "source": [
    "N = 5\n",
    "k = 10000000\n",
    "\n",
    "H = np.zeros((N,N))\n",
    "for i in range(N):\n",
    "    for j in range(i+1,N):\n",
    "        H[i,i] = Hi(i+1,N,k)\n",
    "        H[i,j] = Hij(i+1,j+1,N,k)\n",
    "        H[j,i] = H[i,j]\n",
    "H[N-1,N-1] = Hi(N,N,k)"
   ]
  },
  {
   "cell_type": "code",
   "execution_count": 27,
   "id": "a253abe1",
   "metadata": {},
   "outputs": [
    {
     "data": {
      "text/plain": [
       "array([[ 0.52378942,  0.28585117,  0.04782904, -0.19054094, -0.42922114],\n",
       "       [ 0.28585117,  0.2381834 ,  0.09537219, -0.04746588, -0.19076418],\n",
       "       [ 0.04782904,  0.09537219,  0.14282374,  0.09521784,  0.04735169],\n",
       "       [-0.19054094, -0.04746588,  0.09521784,  0.23835261,  0.2848509 ],\n",
       "       [-0.42922114, -0.19076418,  0.04735169,  0.2848509 ,  0.52388513]])"
      ]
     },
     "execution_count": 27,
     "metadata": {},
     "output_type": "execute_result"
    }
   ],
   "source": [
    "H"
   ]
  },
  {
   "cell_type": "code",
   "execution_count": 28,
   "id": "c0a3b6d5",
   "metadata": {},
   "outputs": [],
   "source": [
    "from numpy.linalg import inv\n",
    "H_inv = inv(H) \n",
    "e = np.ones((N,1))\n",
    "num = H_inv@e\n",
    "den = e.transpose() @ H @ e\n"
   ]
  },
  {
   "cell_type": "code",
   "execution_count": 30,
   "id": "ca4da39e",
   "metadata": {},
   "outputs": [
    {
     "data": {
      "text/plain": [
       "array([[ 0.53213861],\n",
       "       [-0.0023828 ],\n",
       "       [-0.00533721],\n",
       "       [ 0.00669734],\n",
       "       [ 0.52755044]])"
      ]
     },
     "execution_count": 30,
     "metadata": {},
     "output_type": "execute_result"
    }
   ],
   "source": [
    "alpha = num/den\n",
    "alpha"
   ]
  },
  {
   "cell_type": "code",
   "execution_count": null,
   "id": "ce723a9b",
   "metadata": {},
   "outputs": [],
   "source": []
  }
 ],
 "metadata": {
  "kernelspec": {
   "display_name": "Python 3 (ipykernel)",
   "language": "python",
   "name": "python3"
  },
  "language_info": {
   "codemirror_mode": {
    "name": "ipython",
    "version": 3
   },
   "file_extension": ".py",
   "mimetype": "text/x-python",
   "name": "python",
   "nbconvert_exporter": "python",
   "pygments_lexer": "ipython3",
   "version": "3.10.5"
  }
 },
 "nbformat": 4,
 "nbformat_minor": 5
}
